{
 "cells": [
  {
   "cell_type": "markdown",
   "metadata": {},
   "source": [
    "# Advent of Code 2018\n",
    "\n",
    "This solution (Jupyter notebook; python3.7) by kannix68, @ 2020-12 (2 years late).  \\\n",
    "Using anaconda distro, conda v4.9.2. installation on MacOS v10.14.6 \"Mojave\"."
   ]
  },
  {
   "cell_type": "markdown",
   "metadata": {},
   "source": [
    "## Generic AoC code"
   ]
  },
  {
   "cell_type": "code",
   "execution_count": null,
   "metadata": {},
   "outputs": [],
   "source": [
    "import sys\n",
    "import logging\n",
    "\n",
    "import lib.aochelper as aoc\n",
    "from lib.aochelper import map_list as mapl\n",
    "\n",
    "print(\"Python version:\", sys.version)\n",
    "print(\"Version info:\", sys.version_info)\n",
    "\n",
    "log = aoc.getLogger(__name__)\n",
    "#log.setLevel(logging.DEBUG) # std: logging.INFO\n",
    "print(f\"initial log-level={log.getEffectiveLevel()}\")"
   ]
  },
  {
   "cell_type": "markdown",
   "metadata": {},
   "source": [
    "## Problem domain code"
   ]
  },
  {
   "cell_type": "markdown",
   "metadata": {},
   "source": [
    "### Day 1: Chronal Calibration"
   ]
  },
  {
   "cell_type": "code",
   "execution_count": null,
   "metadata": {},
   "outputs": [],
   "source": [
    "print(\"Day 1 a\")"
   ]
  },
  {
   "cell_type": "code",
   "execution_count": null,
   "metadata": {},
   "outputs": [],
   "source": [
    "test = \"\"\"\n",
    "+1, -2, +3, +1\n",
    "\"\"\".strip().split(', ')\n",
    "tests = aoc.map_list(int, test)\n",
    "aoc.assert_msg(\"test 1\", 3 == sum(tests))"
   ]
  },
  {
   "cell_type": "code",
   "execution_count": null,
   "metadata": {},
   "outputs": [],
   "source": [
    "ins = aoc.read_file_to_list('./day01/day01.in')\n",
    "print(\"Day 1 a solution:\", sum(aoc.map_list(int, ins)))"
   ]
  },
  {
   "cell_type": "code",
   "execution_count": null,
   "metadata": {},
   "outputs": [],
   "source": [
    "print(\"Day 1 b\", \"TODO here, but already solved 2018\")"
   ]
  },
  {
   "cell_type": "code",
   "execution_count": null,
   "metadata": {},
   "outputs": [],
   "source": [
    "import itertools"
   ]
  },
  {
   "cell_type": "code",
   "execution_count": null,
   "metadata": {},
   "outputs": [],
   "source": [
    "# A list and list.append(frequency are resource hog tools to keep track of seen entries),\n",
    "#  using dict instead.\n",
    "def solve01b(l):\n",
    "  iter = 0\n",
    "  freq = 0\n",
    "  freqs = {freq:True}\n",
    "  for freq_inc in itertools.cycle(l):\n",
    "    iter += 1\n",
    "    freq += freq_inc\n",
    "    if (len(freqs)%100_000 == 0):\n",
    "      log.info(f\"iter={iter}, freq={freq} num-frequencies={len(freqs)}\")\n",
    "    if freq in freqs:\n",
    "      log.info(f\"frequency {freq} used 2nd time, iteration={iter}, num-frequencies={len(freqs)}\")\n",
    "      return freq\n",
    "    elif iter > 10_000_000:\n",
    "      raise Exception(\"fail\")\n",
    "    else:\n",
    "      freqs[freq] = True\n"
   ]
  },
  {
   "cell_type": "code",
   "execution_count": null,
   "metadata": {},
   "outputs": [],
   "source": [
    "solve01b(tests)\n",
    "iins = aoc.map_list(int, ins)\n",
    "log.debug(f\"len={len(iins)},elems={iins}\")\n",
    "result = solve01b(iins)\n",
    "print(\"Day 1 b result:\", result)"
   ]
  },
  {
   "cell_type": "markdown",
   "metadata": {},
   "source": [
    "### Day 2: Inventory Management System"
   ]
  },
  {
   "cell_type": "code",
   "execution_count": null,
   "metadata": {},
   "outputs": [],
   "source": [
    "print(\"Day 2\", \"TODO here, but already solved 2018\")"
   ]
  },
  {
   "cell_type": "markdown",
   "metadata": {},
   "source": [
    "### Day 3: No Matter How You Slice It"
   ]
  },
  {
   "cell_type": "code",
   "execution_count": null,
   "metadata": {},
   "outputs": [],
   "source": [
    "from collections import defaultdict\n",
    "\n",
    "class C2d_space_inc:\n",
    "  \n",
    "  def __init__(self):\n",
    "    self.spc = defaultdict(int)\n",
    "    self.clms = {}\n",
    "  \n",
    "  def set_xy(self, x, y):\n",
    "    self.spc[tuple([x,y])] += 1\n",
    "  \n",
    "  def set_range(self, x, y, rgx, rgy, id=None):\n",
    "    for px in range(x, x+rgx):\n",
    "      for py in range(y, y+rgy):\n",
    "        self.spc[tuple([px,py])] += 1\n",
    "    if id is not None:\n",
    "      self.clms[id] = [x, y, rgx, rgy]\n",
    "      #log_info(f\"create claim {id} => {self.claims[id] }\")\n",
    "  \n",
    "  def get_range(self, x, y, rgx, rgy):\n",
    "    outspc = {}\n",
    "    for px in range(x, x+rgx):\n",
    "      for py in range(y, y+rgy):\n",
    "        outspc[tuple([px,py])] = self.spc[tuple([px,py])]\n",
    "    return outspc\n",
    "\n",
    "  def cols(self):\n",
    "    return sorted(set(map(lambda it: it[0], self.spc.keys())))\n",
    "\n",
    "  def rows(self):\n",
    "    return sorted(set(map(lambda it: it[1], self.spc.keys())))\n",
    "  \n",
    "  def values(self):\n",
    "    return self.spc.values()\n",
    "\n",
    "  def claims(self):\n",
    "    return self.clms\n",
    "\n",
    "  def get_pp_repr(self):\n",
    "    return \"[c2d_space_inc]: \" + str(self.spc)\n",
    "\n",
    "  def pp(self):\n",
    "    print(self.get_pp_repr())\n",
    "\n",
    "  def get_show_repr(self):\n",
    "    rows = self.rows()\n",
    "    cols = self.cols()\n",
    "    rowstr = ''\n",
    "    for y in range(0, max(rows)+1): #range(min(rows), max(rows)+1):\n",
    "      colstr = ''\n",
    "      for x in range(0, max(cols)+1):\n",
    "        colstr += str(self.spc[tuple([x,y])])\n",
    "      rowstr += colstr + \"\\n\"\n",
    "    return rowstr\n",
    "\n",
    "  def show(self):\n",
    "    print(self.get_show_repr())"
   ]
  },
  {
   "cell_type": "code",
   "execution_count": null,
   "metadata": {},
   "outputs": [],
   "source": [
    "# just some testing:\n",
    "c2d = C2d_space_inc()\n",
    "c2d.set_xy(1,1)\n",
    "c2d.set_xy(2,2)\n",
    "log.debug(c2d.get_pp_repr())\n",
    "c2d.set_xy(1,1)\n",
    "c2d.set_xy(1,3)\n",
    "log.debug(c2d.get_pp_repr())\n",
    "log.debug(f\"cols: {c2d.cols()}\")\n",
    "log.debug(f\"rows:, {c2d.rows()}\")\n",
    "log.debug(\"\\n\"+c2d.get_show_repr()) #c2d.show()"
   ]
  },
  {
   "cell_type": "code",
   "execution_count": null,
   "metadata": {},
   "outputs": [],
   "source": [
    "def create_space(l):\n",
    "  import re\n",
    "  c2d = C2d_space_inc()\n",
    "  for line in l:\n",
    "    rx = re.search('^#(\\w+)\\s+@\\s+(\\d+),(\\d+):\\s*(\\d+)x(\\d+)$', line) #r'^#([^\\s]+) @ (d+),(\\d+): ((\\d+)),((\\d+))$', line)\n",
    "    #log.debug(rx.groups())\n",
    "    id, sx, sy, srgx, srgy = rx.groups()\n",
    "    x, y, rgs, rgy = aoc.map_list(int, [sx, sy, srgx, srgy])\n",
    "    #c2d.set_range(x, y, rgs, rgy)\n",
    "    c2d.set_range(x, y, rgs, rgy, id=id)\n",
    "  #c2d.show()\n",
    "  return c2d"
   ]
  },
  {
   "cell_type": "code",
   "execution_count": null,
   "metadata": {},
   "outputs": [],
   "source": [
    "tests = \"\"\"\n",
    "#123 @ 3,2: 5x4\n",
    "\"\"\".strip().split(\"\\n\")\n",
    "log.info(f\"tests {tests}\")"
   ]
  },
  {
   "cell_type": "code",
   "execution_count": null,
   "metadata": {},
   "outputs": [],
   "source": [
    "print(\"1st test representation:\")\n",
    "create_space(tests).show()"
   ]
  },
  {
   "cell_type": "code",
   "execution_count": null,
   "metadata": {},
   "outputs": [],
   "source": [
    "tests = \"\"\"\n",
    "#1 @ 1,3: 4x4\n",
    "#2 @ 3,1: 4x4\n",
    "#3 @ 5,5: 2x2\n",
    "\"\"\".strip().split(\"\\n\")\n",
    "log.info(f\"tests={tests}\")"
   ]
  },
  {
   "cell_type": "code",
   "execution_count": null,
   "metadata": {},
   "outputs": [],
   "source": [
    "print(\"2nd test representation:\")\n",
    "create_space(tests).show()"
   ]
  },
  {
   "cell_type": "code",
   "execution_count": null,
   "metadata": {},
   "outputs": [],
   "source": [
    "def get_space_overlaps(l):\n",
    "  c2d = create_space(l)\n",
    "  return len(aoc.filter_list(lambda it: it > 1, c2d.values()))"
   ]
  },
  {
   "cell_type": "code",
   "execution_count": null,
   "metadata": {},
   "outputs": [],
   "source": [
    "aoc.assert_msg( \"4 test cells that overlap\", 4 == get_space_overlaps(tests) )"
   ]
  },
  {
   "cell_type": "code",
   "execution_count": null,
   "metadata": {},
   "outputs": [],
   "source": [
    "ins = aoc.read_file_to_list('./day03/day03.in')\n",
    "result = get_space_overlaps(ins)\n",
    "print(\"Day 3 a solution:\", result)"
   ]
  },
  {
   "cell_type": "code",
   "execution_count": null,
   "metadata": {},
   "outputs": [],
   "source": [
    "def get_singular_space(l):\n",
    "  c2d = create_space(l)\n",
    "  for k, v in c2d.claims().items():\n",
    "    #log.debug([k, v])\n",
    "    rg = c2d.get_range(v[0], v[1], v[2], v[3])\n",
    "    #log.debug(rg)\n",
    "    #log.debug(rg.values())\n",
    "    if max(rg.values()) == 1:\n",
    "      log.info(f\"found id={k}, num of 1-cells:{len(rg.values())}\")\n",
    "      result = k\n",
    "  return result"
   ]
  },
  {
   "cell_type": "code",
   "execution_count": null,
   "metadata": {},
   "outputs": [],
   "source": [
    "print(\"Day 3 b tests result: \", get_singular_space(tests))\n",
    "print(\"Day 3 b solution:\", get_singular_space(ins))"
   ]
  },
  {
   "cell_type": "markdown",
   "metadata": {},
   "source": [
    "### Day 4"
   ]
  },
  {
   "cell_type": "code",
   "execution_count": null,
   "metadata": {},
   "outputs": [],
   "source": [
    "# TODO"
   ]
  },
  {
   "cell_type": "markdown",
   "metadata": {},
   "source": [
    "### Day 5"
   ]
  },
  {
   "cell_type": "code",
   "execution_count": null,
   "metadata": {},
   "outputs": [],
   "source": [
    "# TODO"
   ]
  },
  {
   "cell_type": "markdown",
   "metadata": {},
   "source": [
    "### Day 6:  Chronal Coordinates"
   ]
  },
  {
   "cell_type": "code",
   "execution_count": null,
   "metadata": {},
   "outputs": [],
   "source": [
    "#TODO"
   ]
  },
  {
   "cell_type": "markdown",
   "metadata": {},
   "source": [
    "### Day 7: The Sum of Its Parts"
   ]
  },
  {
   "cell_type": "code",
   "execution_count": null,
   "metadata": {},
   "outputs": [],
   "source": [
    "DEBUG_FLAG = 0"
   ]
  },
  {
   "cell_type": "code",
   "execution_count": null,
   "metadata": {},
   "outputs": [],
   "source": [
    "import networkx as nx"
   ]
  },
  {
   "cell_type": "code",
   "execution_count": null,
   "metadata": {},
   "outputs": [],
   "source": [
    "tests = \"\"\"\n",
    "Step C must be finished before step A can begin.\n",
    "Step C must be finished before step F can begin.\n",
    "Step A must be finished before step B can begin.\n",
    "Step A must be finished before step D can begin.\n",
    "Step B must be finished before step E can begin.\n",
    "Step D must be finished before step E can begin.\n",
    "Step F must be finished before step E can begin.\n",
    "\"\"\".strip().split(\"\\n\")"
   ]
  },
  {
   "cell_type": "code",
   "execution_count": null,
   "metadata": {},
   "outputs": [],
   "source": [
    "def create_graph(l):\n",
    "  graph = nx.DiGraph()\n",
    "  for line in l:\n",
    "    linesplit = line.split(' ')\n",
    "    srcnd, trgnd = [linesplit[1], linesplit[-3]]\n",
    "    if not srcnd in graph.nodes:\n",
    "      log.debug(f\"g add node {srcnd}\")\n",
    "    if not trgnd in graph.nodes:\n",
    "      log.debug(f\"g add node {trgnd}\")\n",
    "    graph.add_edge(srcnd, trgnd)\n",
    "  log.info(f\"graph-edges={sorted(list(graph.edges))}\")\n",
    "  return graph"
   ]
  },
  {
   "cell_type": "code",
   "execution_count": null,
   "metadata": {},
   "outputs": [],
   "source": [
    "# still using networkx graph li, inspiration from user VikeStep:\n",
    "#  [- 2018 Day 7 Solutions - : adventofcode](https://www.reddit.com/r/adventofcode/comments/a3wmnl/2018_day_7_solutions/)\n",
    "def solve07a(l):\n",
    "  graph = create_graph(l)\n",
    "  \n",
    "  nodes_lst = list(graph.nodes)\n",
    "  log.debug(f\"nodes: entry-order {str.join('', nodes_lst)}\")\n",
    "  nodes_lst = list(nx.topological_sort(graph))\n",
    "  log.debug(f\"nodes: topo {str.join('', nodes_lst)}\")\n",
    "  nodes_lst = list(nx.algorithms.dag.lexicographical_topological_sort(graph))\n",
    "  log.info(\"nodes: lexico-topo {str.join('', nodes_lst)}\")\n",
    "  return str.join('', nodes_lst)"
   ]
  },
  {
   "cell_type": "code",
   "execution_count": null,
   "metadata": {},
   "outputs": [],
   "source": [
    "solve07a(tests)"
   ]
  },
  {
   "cell_type": "code",
   "execution_count": null,
   "metadata": {},
   "outputs": [],
   "source": [
    "ins = aoc.read_file_to_list('./in/day07.in')\n",
    "solve07a(ins)"
   ]
  },
  {
   "cell_type": "code",
   "execution_count": null,
   "metadata": {},
   "outputs": [],
   "source": [
    "print(\"Day 07 b, # TODO\")"
   ]
  },
  {
   "cell_type": "markdown",
   "metadata": {},
   "source": [
    "### Day 8"
   ]
  },
  {
   "cell_type": "code",
   "execution_count": null,
   "metadata": {},
   "outputs": [],
   "source": [
    "# TODO"
   ]
  },
  {
   "cell_type": "markdown",
   "metadata": {},
   "source": [
    "### Day 9"
   ]
  },
  {
   "cell_type": "code",
   "execution_count": null,
   "metadata": {},
   "outputs": [],
   "source": [
    "# TODO"
   ]
  },
  {
   "cell_type": "markdown",
   "metadata": {},
   "source": [
    "### Day 10"
   ]
  },
  {
   "cell_type": "code",
   "execution_count": null,
   "metadata": {},
   "outputs": [],
   "source": [
    "# TODO"
   ]
  },
  {
   "cell_type": "markdown",
   "metadata": {},
   "source": [
    "### Day 11"
   ]
  },
  {
   "cell_type": "code",
   "execution_count": null,
   "metadata": {},
   "outputs": [],
   "source": [
    "# TODO"
   ]
  },
  {
   "cell_type": "markdown",
   "metadata": {},
   "source": [
    "### Day 12"
   ]
  },
  {
   "cell_type": "code",
   "execution_count": null,
   "metadata": {},
   "outputs": [],
   "source": [
    "# TODO"
   ]
  },
  {
   "cell_type": "markdown",
   "metadata": {},
   "source": [
    "### Day 13"
   ]
  },
  {
   "cell_type": "code",
   "execution_count": null,
   "metadata": {},
   "outputs": [],
   "source": [
    "# TODO"
   ]
  },
  {
   "cell_type": "code",
   "execution_count": null,
   "metadata": {},
   "outputs": [],
   "source": [
    "### Day 14: Chocolate Charts"
   ]
  },
  {
   "cell_type": "code",
   "execution_count": null,
   "metadata": {},
   "outputs": [],
   "source": [
    "def find_improved_score(target_num):\n",
    "  elf1 = 0\n",
    "  elf2 = 1\n",
    "  recipies = [3, 7]\n",
    "  #num_new_recipies = 0\n",
    "  log.info(f\"#0: num-recipes={len(recipies)}, recipies={recipies}\")\n",
    "  for i in range(2*target_num):\n",
    "    new_recipy = recipies[elf1] +  recipies[elf2]\n",
    "    #found_recipies.add(new_recipy)\n",
    "    digits = aoc.map_list(int, str(new_recipy))\n",
    "    #num_new_recipies += len(digits)\n",
    "    for d in digits:\n",
    "      recipies.append(d)\n",
    "    elf1 = (elf1+1+recipies[elf1]) % len(recipies)\n",
    "    elf2 = (elf2+1+recipies[elf2]) % len(recipies)\n",
    "    #log.debug(f\"#{i+1}: num-recipes={len(recipies)}\")\n",
    "    #log.debug(f\"{len(digits)}, {digits}, {recipies}, elf1:{elf1} elf2:{elf2}, {len(recipies)}\") #found_recipies)\n",
    "    if len(recipies) >= target_num + 10:\n",
    "      res = str.join('', aoc.map_list(str, recipies))[target_num:target_num+10] # 0124515891\n",
    "      log.info(f\"found: {res}\")\n",
    "      return res\n"
   ]
  },
  {
   "cell_type": "code",
   "execution_count": null,
   "metadata": {},
   "outputs": [],
   "source": [
    "print( find_improved_score(9) )\n",
    "print( find_improved_score(5) )\n",
    "print( find_improved_score(18) )\n",
    "print( find_improved_score(2018) )\n"
   ]
  },
  {
   "cell_type": "code",
   "execution_count": null,
   "metadata": {},
   "outputs": [],
   "source": [
    "ins = 846021 # << insert personal input here\n",
    "print( \"Day 14 a solution:\", find_improved_score(ins) )"
   ]
  },
  {
   "cell_type": "code",
   "execution_count": null,
   "metadata": {},
   "outputs": [],
   "source": [
    "print(\"Day 14 b\")\n",
    "\n",
    "def find_num_recips_before(target_num):\n",
    "  target_str = str(target_num)\n",
    "  elf1 = 0\n",
    "  elf2 = 1\n",
    "  recipies = [3, 7]\n",
    "  #num_new_recipies = 0\n",
    "  log.info(f\"#0: num-recipes={len(recipies)}, recipies={recipies}\")\n",
    "  for i in range(1000*int(target_num)):\n",
    "    new_recipy = recipies[elf1] +  recipies[elf2]\n",
    "    #found_recipies.add(new_recipy)\n",
    "    digits = aoc.map_list(int, str(new_recipy))\n",
    "    #num_new_recipies += len(digits)\n",
    "    for d in digits:\n",
    "      recipies.append(d)\n",
    "    elf1 = (elf1+1+recipies[elf1]) % len(recipies)\n",
    "    elf2 = (elf2+1+recipies[elf2]) % len(recipies)\n",
    "    #log_debug(f\"#{i+1}: num-recipes={len(recipies)}\")\n",
    "    #log_debug(len(digits), digits, recipies, \" elf1:\", elf1, \" elf2:\", elf2, found_recipies)\n",
    "    if i % 1_000_000 == 0:\n",
    "      log.info(f\"calculating, iter: {i}\")\n",
    "    recips_end_str = str.join('', aoc.map_list(str, recipies[-12:]))\n",
    "    if target_str in recips_end_str:\n",
    "      offset = 0\n",
    "      if not recips_end_str.endswith(target_str):\n",
    "        recips_end_str = recips_end_str[0:-1]\n",
    "        offset = 1\n",
    "      assert( recips_end_str.endswith(target_str) )\n",
    "      #recips_str = str.join('', lmap(str, recipies))\n",
    "      #res = recips_str.index(target_str)\n",
    "      #log.info(f\"length={len(recipies)}-{len(target_str)}\") #\" from {recips_str}\")\n",
    "      res = len(recipies) - len(target_str) - offset\n",
    "      log.info(f\"target-num={target_str}, found: idx={res} @iter={i}\") #\" from {recips_str}\")\n",
    "      return res\n",
    "  raise Exception(\"not terminated with find-criterium\")"
   ]
  },
  {
   "cell_type": "code",
   "execution_count": null,
   "metadata": {},
   "outputs": [],
   "source": [
    "find_num_recips_before(51589)"
   ]
  },
  {
   "cell_type": "code",
   "execution_count": null,
   "metadata": {},
   "outputs": [],
   "source": [
    "find_num_recips_before('01245')\n",
    "find_num_recips_before('92510')\n",
    "find_num_recips_before('59414')"
   ]
  },
  {
   "cell_type": "code",
   "execution_count": null,
   "metadata": {},
   "outputs": [],
   "source": [
    "PERFORM_RESOURCE_HOGS = False\n",
    "if PERFORM_RESOURCE_HOGS:\n",
    "  find_num_recips_before(ins)"
   ]
  },
  {
   "cell_type": "markdown",
   "metadata": {},
   "source": [
    "### Day 15"
   ]
  },
  {
   "cell_type": "code",
   "execution_count": null,
   "metadata": {},
   "outputs": [],
   "source": [
    "# TODO"
   ]
  },
  {
   "cell_type": "markdown",
   "metadata": {},
   "source": [
    "### Day 16"
   ]
  },
  {
   "cell_type": "code",
   "execution_count": null,
   "metadata": {},
   "outputs": [],
   "source": [
    "test = \"\"\"\n",
    "Before: [3, 2, 1, 1]\n",
    "9 2 1 2\n",
    "After:  [3, 2, 2, 1]\n",
    "\"\"\".strip().split(\"\\n\")\n",
    "mem_before = eval(test[0].replace('Before: ', ''))\n",
    "cpu_instruct = aoc.map_list(int, test[1].split(' '))\n",
    "mem_after = eval(test[2].replace('After:  ', ''))\n",
    "log.debug([mem_before, cpu_instruct, mem_after])"
   ]
  },
  {
   "cell_type": "code",
   "execution_count": null,
   "metadata": {},
   "outputs": [],
   "source": [
    "OPC, A, B, C = [0, 1, 2, 3] # positions\n",
    "\n",
    "def op_addr(instr, regs):\n",
    "  \"\"\"addr (add register) stores into register C the result of adding register A and register B.\"\"\"\n",
    "  oregs = regs.copy()\n",
    "  oregs[instr[C]] = oregs[instr[A]] + oregs[instr[B]]\n",
    "  return oregs\n",
    "def op_addi(instr, regs):\n",
    "  \"\"\"addi (add immediate) stores into register C the result of adding register A and value B.\"\"\"\n",
    "  oregs = regs.copy()\n",
    "  oregs[instr[C]] = oregs[instr[A]] + instr[B]\n",
    "  return oregs\n",
    "def op_mulr(instr, regs):\n",
    "  \"\"\"mulr (multiply register) stores into register C the result of multiplying register A and register B.\"\"\"\n",
    "  oregs = regs.copy()\n",
    "  oregs[instr[C]] = oregs[instr[A]] * oregs[instr[B]]\n",
    "  return oregs\n",
    "def op_muli(instr, regs):\n",
    "  \"\"\"muli (multiply immediate) stores into register C the result of multiplying register A and value B.\"\"\"\n",
    "  oregs = regs.copy()\n",
    "  oregs[instr[C]] = oregs[instr[A]] * instr[B]\n",
    "  return oregs\n",
    "def op_banr(instr, regs):\n",
    "  \"\"\"banr (bitwise AND register) stores into register C the result of the bitwise AND of register A and register B.\"\"\"\n",
    "  oregs = regs.copy()\n",
    "  oregs[instr[C]] = oregs[instr[A]] & oregs[instr[B]]\n",
    "  return oregs\n",
    "def op_bani(instr, regs):\n",
    "  \"\"\"bani (bitwise AND immediate) stores into register C the result of the bitwise AND of register A and value B.\"\"\"\n",
    "  oregs = regs.copy()\n",
    "  oregs[instr[C]] = oregs[instr[A]] & instr[B]\n",
    "  return oregs\n",
    "def op_borr(instr, regs):\n",
    "  \"\"\"borr (bitwise OR register) stores into register C the result of the bitwise OR of register A and register B.\"\"\"\n",
    "  oregs = regs.copy()\n",
    "  oregs[instr[C]] = oregs[instr[A]] | oregs[instr[B]]\n",
    "  return oregs\n",
    "def op_bori(instr, regs):\n",
    "  \"\"\"bori (bitwise OR immediate) stores into register C the result of the bitwise OR of register A and value B.\"\"\"\n",
    "  oregs = regs.copy()\n",
    "  oregs[instr[C]] = oregs[instr[A]] | instr[B]\n",
    "  return oregs\n",
    "def op_setr(instr, regs):\n",
    "  \"\"\"setr (set register) copies the contents of register A into register C. (Input B is ignored.)\"\"\"\n",
    "  oregs = regs.copy()\n",
    "  oregs[instr[C]] = oregs[instr[A]]\n",
    "  return oregs\n",
    "def op_seti(instr, regs):\n",
    "  \"\"\"seti (set immediate) stores value A into register C. (Input B is ignored.)\"\"\"\n",
    "  oregs = regs.copy()\n",
    "  oregs[instr[C]] = instr[A]\n",
    "  return oregs\n",
    "def op_gtir(instr, regs):\n",
    "  \"\"\"gtir (greater-than immediate/register) sets register C to 1 if value A is greater than register B.\n",
    "  Otherwise, register C is set to 0.\"\"\"\n",
    "  oregs = regs.copy()\n",
    "  if instr[A] > oregs[instr[B]]:\n",
    "    oregs[instr[C]] = 1\n",
    "  else:\n",
    "    oregs[instr[C]] = 0\n",
    "  return oregs\n",
    "def op_gtri(instr, regs):\n",
    "  \"\"\"gtri (greater-than register/immediate) sets register C to 1 if register A is greater than value B.\n",
    "  Otherwise, register C is set to 0.\"\"\"\n",
    "  oregs = regs.copy()\n",
    "  if oregs[instr[A]] > instr[B]:\n",
    "    oregs[instr[C]] = 1\n",
    "  else:\n",
    "    oregs[instr[C]] = 0\n",
    "  return oregs\n",
    "def op_gtrr(instr, regs):\n",
    "  \"\"\"gtrr (greater-than register/register) sets register C to 1 if register A is greater than register B.\n",
    "  Otherwise, register C is set to 0.\"\"\"\n",
    "  oregs = regs.copy()\n",
    "  if oregs[instr[A]] > oregs[instr[B]]:\n",
    "    oregs[instr[C]] = 1\n",
    "  else:\n",
    "    oregs[instr[C]] = 0\n",
    "  return oregs\n",
    "def op_eqir(instr, regs):\n",
    "  \"\"\"eqir (equal immediate/register) sets register C to 1 if value A is equal to register B.\n",
    "  Otherwise, register C is set to 0.\"\"\"\n",
    "  oregs = regs.copy()\n",
    "  if instr[A] == oregs[instr[B]]:\n",
    "    oregs[instr[C]] = 1\n",
    "  else:\n",
    "    oregs[instr[C]] = 0\n",
    "  return oregs\n",
    "def op_eqri(instr, regs):\n",
    "  \"\"\"eqri (equal register/immediate) sets register C to 1 if register A is equal to value B.\n",
    "  Otherwise, register C is set to 0.\"\"\"\n",
    "  oregs = regs.copy()\n",
    "  if oregs[instr[A]] == instr[B]:\n",
    "    oregs[instr[C]] = 1\n",
    "  else:\n",
    "    oregs[instr[C]] = 0\n",
    "  return oregs\n",
    "def op_eqrr(instr, regs):\n",
    "  \"\"\"eqrr (equal register/register) sets register C to 1 if register A is equal to register B.\n",
    "  Otherwise, register C is set to 0.\"\"\"\n",
    "  oregs = regs.copy()\n",
    "  if oregs[instr[A]] == oregs[instr[B]]:\n",
    "    oregs[instr[C]] = 1\n",
    "  else:\n",
    "    oregs[instr[C]] = 0\n",
    "  return oregs\n",
    "\n",
    "opcodes = [op_addr, op_addi, op_mulr, op_muli, op_banr, op_bani, op_borr, op_bori\n",
    "           , op_setr, op_seti, op_gtir, op_gtri, op_gtrr, op_eqir, op_eqri, op_eqrr]  "
   ]
  },
  {
   "cell_type": "code",
   "execution_count": null,
   "metadata": {},
   "outputs": [],
   "source": [
    "def pp_opfun(opfun):\n",
    "  return str(opfun).replace('<function ', '').split(' ')[0]\n",
    "\n",
    "def get_ops_match_count(mem_before, cpu_instruct, mem_after):\n",
    "  ct = 0\n",
    "  for opfun in opcodes:\n",
    "    tst_after = opfun(cpu_instruct, mem_before)\n",
    "    #print(opfun, tst_after)\n",
    "    if tuple(tst_after) == tuple(mem_after):\n",
    "      log.trace(f\"opcode {cpu_instruct[OPC]} matches {pp_opfun(opfun)}\")\n",
    "      ct += 1 #print(\"  matches!\")\n",
    "  return ct\n",
    "  "
   ]
  },
  {
   "cell_type": "code",
   "execution_count": null,
   "metadata": {},
   "outputs": [],
   "source": [
    "#mem_before = eval(test[0].replace('Before: ', ''))\n",
    "#cpu_instruct = lmap(int, test[1].split(' '))\n",
    "#mem_after = eval(test[2].replace('After:  ', ''))\n",
    "log.info(f\"mem-before={mem_before}\")\n",
    "log.info(f\"mem-after-expected={mem_after}\")\n",
    "res = get_ops_match_count(mem_before, cpu_instruct, mem_after)\n",
    "print(\"test-result:\", res)"
   ]
  },
  {
   "cell_type": "code",
   "execution_count": null,
   "metadata": {},
   "outputs": [],
   "source": [
    "ins = aoc.read_file_to_str('./in/day16.in')\n",
    "ins1 = ins.split(\"\\n\\n\\n\")[0].strip().split(\"\\n\\n\")\n",
    "log.trace(ins1)"
   ]
  },
  {
   "cell_type": "code",
   "execution_count": null,
   "metadata": {},
   "outputs": [],
   "source": [
    "ct = 0\n",
    "for in1 in ins1:\n",
    "  test = in1.split(\"\\n\")\n",
    "  mem_before = eval(test[0].replace('Before: ', ''))\n",
    "  cpu_instruct = aoc.map_list(int, test[1].split(' '))\n",
    "  mem_after = eval(test[2].replace('After:  ', ''))\n",
    "  opscount = get_ops_match_count(mem_before, cpu_instruct, mem_after)\n",
    "  if opscount >= 3:\n",
    "    log.debug([\"found-test\", opscount, mem_before, cpu_instruct, mem_after])\n",
    "    ct += 1\n",
    "log.info(f\"Day 16 solution: found fulfilling samples: {ct}\")"
   ]
  },
  {
   "cell_type": "code",
   "execution_count": null,
   "metadata": {},
   "outputs": [],
   "source": [
    "def pp_opfun(opfun):\n",
    "  return str(opfun).replace('<function ', '').split(' ')[0]\n",
    "\n",
    "def get_ops_matching(mem_before, cpu_instruct, mem_after):\n",
    "  maybe_ops = set()\n",
    "  ct = 0\n",
    "  for opfun in opcodes:\n",
    "    tst_after = opfun(cpu_instruct, mem_before)\n",
    "    #print(opfun, tst_after)\n",
    "    if tuple(tst_after) == tuple(mem_after):\n",
    "      #log_debug(f\"opcode {cpu_instruct[OPC]} matches {pp_opfun(opfun)}\")\n",
    "      ct += 1 #print(\"  matches!\")\n",
    "      maybe_ops.add(opfun)\n",
    "  return maybe_ops\n",
    "  "
   ]
  },
  {
   "cell_type": "code",
   "execution_count": null,
   "metadata": {},
   "outputs": [],
   "source": [
    "test = \"\"\"\n",
    "Before: [3, 2, 1, 1]\n",
    "9 2 1 2\n",
    "After:  [3, 2, 2, 1]\n",
    "\"\"\".strip().split(\"\\n\")\n",
    "mem_before = eval(test[0].replace('Before: ', ''))\n",
    "cpu_instruct = aoc.map_list(int, test[1].split(' '))\n",
    "mem_after = eval(test[2].replace('After:  ', ''))\n",
    "op_num = cpu_instruct[OPC]\n",
    "log.debug([mem_before, cpu_instruct, mem_after])\n",
    "res = get_ops_matching(mem_before, cpu_instruct, mem_after)\n",
    "ops_dict = dict()\n",
    "if op_num in ops_dict:\n",
    "  True\n",
    "else:\n",
    "  ops_dict[op_num] = res\n",
    "print(\"test-result:\", res)"
   ]
  },
  {
   "cell_type": "code",
   "execution_count": null,
   "metadata": {},
   "outputs": [],
   "source": [
    "def find_op_relations(samples):\n",
    "  log.info(\"[find_op_relations]\")\n",
    "  #log.debug(samples)\n",
    "  \n",
    "  ops_dict = dict()\n",
    "  for idx, sample in enumerate(samples):\n",
    "    if False and idx > 10:\n",
    "      log.warn(\"BREAK HACK\")\n",
    "      break\n",
    "    test = sample.split(\"\\n\")\n",
    "    mem_before = eval(test[0].replace('Before: ', ''))\n",
    "    cpu_instruct = aoc.map_list(int, test[1].split(' '))\n",
    "    mem_after = eval(test[2].replace('After:  ', ''))\n",
    "    op_num = cpu_instruct[OPC]\n",
    "    \n",
    "    res = get_ops_matching(mem_before, cpu_instruct, mem_after)\n",
    "    if op_num in ops_dict:\n",
    "      ops_dict[op_num] = ops_dict[op_num].intersection(res)\n",
    "    else:\n",
    "      ops_dict[op_num] = res\n",
    "\n",
    "  opcodes = {}\n",
    "  ict = 0\n",
    "  found_codes = True\n",
    "  while(found_codes and ict < 20):\n",
    "    ict += 1\n",
    "    log.debug(f\"resolve-iter {ict}\")\n",
    "    log.debug(\"ops-dict {ops_dict}\")\n",
    "    found_codes = False\n",
    "    for k, v in ops_dict.items():\n",
    "      if v is not None and len(v) == 1:\n",
    "        opcodes[k] = list(v)[0]\n",
    "        log.debug(f\"found code {k}: {opcodes[k]}\")\n",
    "        found_codes = True\n",
    "    for k in opcodes.keys():\n",
    "      if k in ops_dict:\n",
    "        log.debug(f\"removing {k} from maybes\")\n",
    "        del ops_dict[k]\n",
    "    for k in ops_dict.keys():\n",
    "      for v in opcodes.values():\n",
    "        if v in ops_dict[k]:\n",
    "          log.debug(f\"  removing elem {v} from maybe:{k}\")\n",
    "          ops_dict[k].remove(v)\n",
    "    log.debug(\"opcodes!:: {opcodes}\")\n",
    "    if len(ops_dict.keys()) == 0:\n",
    "      log.info(f\"resolved all {len(opcodes.keys())} opcodes\")\n",
    "      break\n",
    "    \n",
    "  #return ops_dict\n",
    "  return opcodes"
   ]
  },
  {
   "cell_type": "code",
   "execution_count": null,
   "metadata": {},
   "outputs": [],
   "source": [
    "test = \"\"\"\n",
    "Before: [3, 2, 1, 1]\n",
    "9 2 1 2\n",
    "After:  [3, 2, 2, 1]\n",
    "\"\"\".strip()\n",
    "find_op_relations([test])\n"
   ]
  },
  {
   "cell_type": "code",
   "execution_count": null,
   "metadata": {},
   "outputs": [],
   "source": [
    "ins1 = ins.split(\"\\n\\n\\n\")[0].strip().split(\"\\n\\n\")\n",
    "ins2 = ins.split(\"\\n\\n\\n\")[1].strip().split(\"\\n\")\n",
    "#log_debug(ins1)"
   ]
  },
  {
   "cell_type": "code",
   "execution_count": null,
   "metadata": {},
   "outputs": [],
   "source": [
    "op_funs = find_op_relations(ins1)"
   ]
  },
  {
   "cell_type": "code",
   "execution_count": null,
   "metadata": {},
   "outputs": [],
   "source": [
    "#log_info(ins2)\n",
    "mem_before = [0, 0, 0, 0]\n",
    "memnext = mem_before.copy()\n",
    "for idx, line in enumerate(ins2):\n",
    "  instruct = aoc.map_list(int, line.split(' '))\n",
    "  opfun = op_funs[instruct[OPC]]\n",
    "  memnext = opfun(instruct, memnext)\n",
    "  log.debug(f\"#{idx} memnext={memnext} after {pp_opfun(opfun)} instruct={instruct}\")\n",
    "res = [idx, memnext]\n",
    "print(f\"Day 16 part b solution:, rrun-idx={idx}, mem-regs={memnext}, mem:0={memnext[0]}\")"
   ]
  },
  {
   "cell_type": "markdown",
   "metadata": {},
   "source": [
    "### Day 17"
   ]
  },
  {
   "cell_type": "code",
   "execution_count": null,
   "metadata": {},
   "outputs": [],
   "source": [
    "# TODO"
   ]
  },
  {
   "cell_type": "markdown",
   "metadata": {},
   "source": [
    "### Day 18: Settlers of The North Pole"
   ]
  },
  {
   "cell_type": "code",
   "execution_count": null,
   "metadata": {},
   "outputs": [],
   "source": [
    "tests = \"\"\"\n",
    ".#.#...|#.\n",
    ".....#|##|\n",
    ".|..|...#.\n",
    "..|#.....#\n",
    "#.#|||#|#|\n",
    "...#.||...\n",
    ".|....|...\n",
    "||...#|.#|\n",
    "|.||||..|.\n",
    "...#.|..|.\n",
    "\"\"\".strip().split(\"\\n\")\n",
    "tests2 = []\n",
    "for t in tests:\n",
    "  tests2.append(list(t))"
   ]
  },
  {
   "cell_type": "code",
   "execution_count": null,
   "metadata": {},
   "outputs": [],
   "source": [
    "import copy # for deepcopy\n",
    "\n",
    "class CellularWorld:\n",
    "  def __init__(self, world):\n",
    "    \"\"\"World object constructor, world has to be given as a list-of-lists of chars.\"\"\"\n",
    "    self.world = world\n",
    "    self.dim = [len(world[0]), len(world)]\n",
    "    log.info(f'[CellularWorld] new dim={self.dim}')\n",
    "    self.world = world\n",
    "  \n",
    "  def repr(self):\n",
    "    \"\"\"Return representation str (can be used for printing).\"\"\"\n",
    "    l = []\n",
    "    for line in self.world:\n",
    "      l.append( str.join('', line) )\n",
    "    return str.join(\"\\n\", l)\n",
    "  \n",
    "  def set_world(self, world):\n",
    "    self.world = world\n",
    "    self.dim = [len(world[0]), len(world)]\n",
    "\n",
    "  def get_neighbors8(self, x, y):\n",
    "    \"\"\"Get cell's surrounding 8 neighbors, omitting boundaries.\"\"\"\n",
    "    log.trace(f\"[CellularWorld]:get_neighbors8({x},{y})\")\n",
    "    dim_x = self.dim[0]\n",
    "    dim_y = self.dim[1]\n",
    "    neighbors = ''\n",
    "    for nx in range(x-1, x+2):\n",
    "      for ny in range(y-1, y+2):\n",
    "        if (nx >= 0 and nx < dim_x) and (ny >= 0 and ny < dim_y) and not (nx == x and ny == y):\n",
    "          #log.info(f\"  neighb={[nx, ny]}\")\n",
    "          neighbors += self.world[ny][nx]\n",
    "    return neighbors\n",
    "  \n",
    "  def iterate(self, n=1):\n",
    "    for i in range(n):\n",
    "      world2 = copy.deepcopy(self.world)\n",
    "      for y in range(self.dim[1]):\n",
    "        for x in range(self.dim[0]):\n",
    "          val = self.world[y][x]\n",
    "          neighbors = self.get_neighbors8(x, y)\n",
    "          #log.trace(f\"[{x},{y}]='{val}' nbs='{neighbors}'\")\n",
    "          if val == '.' and neighbors.count('|') >= 3:\n",
    "            world2[y][x] = '|'\n",
    "          elif val == '|' and neighbors.count('#') >= 3:\n",
    "            world2[y][x] = '#'\n",
    "          elif val == '#':\n",
    "            if neighbors.count('#') >= 1 and neighbors.count('|') >= 1:\n",
    "              world2[y][x] = '#'\n",
    "            else:\n",
    "              world2[y][x] = '.'\n",
    "      self.set_world(world2)\n",
    "\n",
    "  def find_cycle(self, max_iter=1_000):\n",
    "    \"\"\"This may only be called at initial state, before any iterations.\"\"\"\n",
    "    seen = [world.repr]\n",
    "    for i in range(max_iter):\n",
    "      if i % 1_000 == 0:\n",
    "        log.debug(f\"iter# {i}, still running\")\n",
    "      world.iterate()\n",
    "      world_repr = world.repr()\n",
    "      if world_repr in seen:\n",
    "        start_idx = seen.index(world_repr)\n",
    "        log.info(f\"found cycle @ iter={i+1}, seen-idx={start_idx}\")\n",
    "        return([start_idx, i+1])\n",
    "      else:\n",
    "        seen.append(world_repr)\n",
    "    raise Exception(\"no world iter cycle found\")"
   ]
  },
  {
   "cell_type": "code",
   "execution_count": null,
   "metadata": {},
   "outputs": [],
   "source": [
    "#t = CellularWorld([[]])\n",
    "world = CellularWorld(tests2)\n",
    "log.info(f\"world created: dim={world.dim}\")\n",
    "log.info(f\"\\n{world.repr()}\\n\")\n",
    "for i in range(1,11):\n",
    "  world.iterate()\n",
    "log.info(f\"world iter {i}:\")\n",
    "log.info(f\"\\n{world.repr()}\\n\")\n",
    "world_repr = world.repr()\n",
    "num_trees = world_repr.count('|')\n",
    "num_lumberyds = world_repr.count('#')\n",
    "log.info(f\"test num-trees={num_trees}, num-lumberyds={num_lumberyds}, result={num_trees*num_lumberyds}\")"
   ]
  },
  {
   "cell_type": "code",
   "execution_count": null,
   "metadata": {},
   "outputs": [],
   "source": [
    "ins = aoc.map_list(list, aoc.read_file_to_list('./in/day18.in'))\n",
    "world = CellularWorld(ins)\n",
    "log.info(f\"world created: dim={world.dim}\")\n",
    "log.debug(f\"\\n{world.repr()}\\n\")\n",
    "for i in range(1,11):\n",
    "  world.iterate()\n",
    "log.info(f\"world iter {i}:\")\n",
    "log.debug(f\"\\n{world.repr()}\\n\")\n",
    "world_repr = world.repr()\n",
    "num_trees = world_repr.count('|')\n",
    "num_lumberyds = world_repr.count('#')\n",
    "day18a_solution = num_trees*num_lumberyds\n",
    "log.info(f\"Day 18 a solution: result={day18a_solution} from num-trees={num_trees}, num-lumberyds={num_lumberyds}\")"
   ]
  },
  {
   "cell_type": "code",
   "execution_count": null,
   "metadata": {},
   "outputs": [],
   "source": [
    "ins = aoc.map_list(list, aoc.read_file_to_list('./in/day18.in'))\n",
    "world = CellularWorld(ins)\n",
    "world_cycle = world.find_cycle()\n",
    "cycle_len = world_cycle[1] - world_cycle[0]\n",
    "log.info(f\"cycle-len={cycle_len} from cycle={world_cycle}\")\n",
    "\n",
    "world.set_world(ins)\n",
    "scores = {}\n",
    "for i in range(0, world_cycle[1]+3+28):\n",
    "  world_repr = world.repr()\n",
    "  num_trees = world_repr.count('|')\n",
    "  num_lumberyds = world_repr.count('#')\n",
    "  score = num_trees * num_lumberyds\n",
    "  scores[i] = score\n",
    "  world.iterate()\n",
    "log.info(\"finished scoring\")\n",
    "log.debug(scores)"
   ]
  },
  {
   "cell_type": "code",
   "execution_count": null,
   "metadata": {},
   "outputs": [],
   "source": [
    "def get_cycled_index(idx, cycle_lst):\n",
    "  cycle_start, cycle_end_bound = cycle_lst\n",
    "  cycle_len = cycle_end_bound - cycle_start \n",
    "  cycle_end = cycle_end_bound-1\n",
    "  #log.debug(f\"[get_cycled_index] cyle is {cycle_lst}, cycle ends-including @{cycle_end}, cycle-len={cycle_len}\")\n",
    "  if idx <= cycle_end:\n",
    "    return idx\n",
    "  else:\n",
    "    #log.trace(idx-cycle_end_bound)\n",
    "    return cycle_start + ((idx-cycle_end_bound) % cycle_len )\n",
    "\n",
    "aoc.assert_msg( \"day 18 b, solution of 1st part ok\", day18a_solution == scores[10])\n",
    "\n",
    "#557 => 557, 558 => 530, 559 => 531\n",
    "for v in [529, 530, 531, 556, 557, 558, 559, 560\n",
    "          , 556+cycle_len, 557+cycle_len, 558+cycle_len, 559+cycle_len]:\n",
    "  log.debug(f\"in idx={v} out idx={get_cycled_index(v, world_cycle)}\")\n",
    "\n",
    "tgt_iter = 1_000_000_000 # 1000000000\n",
    "idx = get_cycled_index(tgt_iter, world_cycle)\n",
    "log.info(f\"Day 18 b solution: score={scores[idx]} from tgt_iter={tgt_iter:9,.0f} target-index={idx}\")\n"
   ]
  },
  {
   "cell_type": "markdown",
   "metadata": {},
   "source": [
    "### Day 19: Go With The Flow"
   ]
  },
  {
   "cell_type": "code",
   "execution_count": null,
   "metadata": {},
   "outputs": [],
   "source": [
    "import time\n",
    "from datetime import datetime\n",
    "\n",
    "class CPU:\n",
    "  OPC, A, B, C = [0, 1, 2, 3] # positions\n",
    "  \n",
    "  def __init__(self):\n",
    "    self.flow_mode = -1\n",
    "    self.prog = []\n",
    "    self.mem = [0, 0, 0, 0, 0, 0]\n",
    "    self.iptr = 0\n",
    "    self.ict = 0\n",
    "    self.state = 'INITED'\n",
    "    self.opfuns = {\n",
    "      'addr':self.opc_addr, 'addi':self.opc_addi,\n",
    "      'mulr':self.opc_mulr, 'muli':self.opc_muli,\n",
    "      'banr':self.opc_banr, 'bani':self.opc_bani,\n",
    "      'borr':self.opc_borr, 'bori':self.opc_bori,\n",
    "      'setr':self.opc_setr, 'seti':self.opc_seti,\n",
    "      'gtir':self.opc_gtir, 'gtri':self.opc_gtri, 'gtrr':self.opc_gtrr,\n",
    "      'eqir':self.opc_eqir, 'eqri':self.opc_eqri, 'eqrr':self.opc_eqrr,\n",
    "    }\n",
    "  \n",
    "  def prepare(self, los):\n",
    "    idx = 0\n",
    "    if los[idx].startswith(\"#ip\"):\n",
    "      log.info(f\"program-mode {los[0]}\")\n",
    "      self.flow_mode = int(los[0].split(\" \")[1])\n",
    "      idx += 1\n",
    "    #cpu_instruct = aoc.map_list(int, test[1].split(' ')\n",
    "    for i in range(idx, len(los)):\n",
    "      cells = los[i].split(\" \")\n",
    "      self.prog.append([cells[0]] + mapl(int, cells[1:]))\n",
    "    log.info(f\"CPU prod={self.prog}\")\n",
    "  \n",
    "  def interpret(self, steps=10_000_000_001):\n",
    "    start_tm = int(time.time())\n",
    "    log.info(self.mem)\n",
    "    self.state = 'RUNNING'\n",
    "    tm = f\"{int(time.time()-start_tm)}s @\" + datetime.now().strftime(\"%H:%M:%S\")\n",
    "    log.info(f\"cpu prog interpret started ict#{self.ict:,}, in-mem={self.mem}\")\n",
    "    for i in range(1, steps+1):\n",
    "      self.ict += 1\n",
    "      instruct = self.prog[self.iptr]\n",
    "      #log.debug(f\"ict#{self.ict} iptr={self.iptr} instr={instruct} mem=[self.mem]\")\n",
    "      if self.flow_mode >= 0:\n",
    "        self.mem[self.flow_mode] = self.iptr\n",
    "      #op = f\"self.op_{instruct[CPU.OPC]}({instruct}, {self.mem})\"\n",
    "      self.opfuns[instruct[CPU.OPC]](instruct)\n",
    "      #log.debug(f\"op={op} returns {self.mem}\")\n",
    "      if self.flow_mode >= 0:\n",
    "        self.iptr = self.mem[self.flow_mode]\n",
    "      self.iptr += 1\n",
    "      if self.iptr >= len(self.prog):\n",
    "        tm = f\"{int(time.time()-start_tm)}s @\" + datetime.now().strftime(\"%H:%M:%S\")\n",
    "        self.state = 'TERMINATED'\n",
    "        log.info(f\"cpu prog terminated gracefully! {tm}\" )\n",
    "        log.info(f\"  ict#{self.ict:,} curstep#{i:,} iptr={self.iptr} mem={self.mem}\")\n",
    "        return\n",
    "      if self.ict % 10_000_000 == 0:\n",
    "        tm = f\"{int(time.time()-start_tm)}s @\" + datetime.now().strftime(\"%H:%M:%S\")\n",
    "        log.info(f\"cpu-prog running {int(time.time()-start_tm)}s, ict={self.ict:,} iptr={self.iptr} mem={self.mem}\")\n",
    "        if self.ict > 100_000_000_000:\n",
    "          raise Exception(\"FAILSAFE\")\n",
    "    tm = f\"{int(time.time()-start_tm)}s @\" + datetime.now().strftime(\"%H:%M:%S\")\n",
    "    self.state = 'PAUSED'\n",
    "    log.info(f\"cpu prog interpret PAUSED ict#{self.ict:,}, end of interpret(), curstep#{i:,}! {tm}\")\n",
    "\n",
    "  def opc_addr(self, instr):\n",
    "    \"\"\"addr (add register) stores into register C the result of adding register A and register B.\"\"\"\n",
    "    self.mem[instr[3]] = self.mem[instr[1]] + self.mem[instr[2]]\n",
    "  def opc_addi(self, instr):\n",
    "    \"\"\"addi (add immediate) stores into register C the result of adding register A and value B.\"\"\"\n",
    "    self.mem[instr[3]] = self.mem[instr[1]] + instr[2]\n",
    "  def opc_mulr(self, instr):\n",
    "    \"\"\"mulr (multiply register) stores into register C the result of multiplying register A and register B.\"\"\"\n",
    "    self.mem[instr[3]] = self.mem[instr[1]] * self.mem[instr[2]]\n",
    "  def opc_muli(self, instr):\n",
    "    \"\"\"muli (multiply immediate) stores into register C the result of multiplying register A and value B.\"\"\"\n",
    "    self.mem[instr[3]] = self.mem[instr[1]] * instr[2]\n",
    "  def opc_banr(self, instr):\n",
    "    \"\"\"banr (bitwise AND register) stores into register C the result of the bitwise AND of register A and register B.\"\"\"\n",
    "    self.mem[instr[3]] = self.mem[instr[1]] & self.mem[instr[2]]\n",
    "  def opc_bani(self, instr):\n",
    "    \"\"\"bani (bitwise AND immediate) stores into register C the result of the bitwise AND of register A and value B.\"\"\"\n",
    "    self.mem[instr[3]] = self.mem[instr[1]] & instr[2]\n",
    "  def opc_borr(self, instr):\n",
    "    \"\"\"borr (bitwise OR register) stores into register C the result of the bitwise OR of register A and register B.\"\"\"\n",
    "    self.mem[instr[3]] = self.mem[instr[1]] | self.mem[instr[2]]\n",
    "  def opc_bori(self, instr):\n",
    "    \"\"\"bori (bitwise OR immediate) stores into register C the result of the bitwise OR of register A and value B.\"\"\"\n",
    "    self.mem[instr[3]] = self.mem[instr[1]] | instr[2]\n",
    "  def opc_setr(self, instr):\n",
    "    \"\"\"setr (set register) copies the contents of register A into register C. (Input B is ignored.)\"\"\"\n",
    "    self.mem[instr[3]] = self.mem[instr[1]]\n",
    "  def opc_seti(self, instr):\n",
    "    \"\"\"seti (set immediate) stores value A into register C. (Input B is ignored.)\"\"\"\n",
    "    self.mem[instr[3]] = instr[1]\n",
    "  def opc_gtir(self, instr):\n",
    "    \"\"\"gtir (greater-than immediate/register) sets register C to 1 if value A is greater than register B.\n",
    "    Otherwise, register C is set to 0.\"\"\"\n",
    "    if instr[1] > self.mem[instr[2]]:\n",
    "      self.mem[instr[3]] = 1\n",
    "    else:\n",
    "      self.mem[instr[3]] = 0\n",
    "  def opc_gtri(self, instr):\n",
    "    \"\"\"gtri (greater-than register/immediate) sets register C to 1 if register A is greater than value B.\n",
    "    Otherwise, register C is set to 0.\"\"\"\n",
    "    if self.mem[instr[1]] > instr[2]:\n",
    "      self.mem[instr[3]] = 1\n",
    "    else:\n",
    "      self.mem[instr[3]] = 0\n",
    "  def opc_gtrr(self, instr):\n",
    "    \"\"\"gtrr (greater-than register/register) sets register C to 1 if register A is greater than register B.\n",
    "    Otherwise, register C is set to 0.\"\"\"\n",
    "    if self.mem[instr[1]] > self.mem[instr[2]]:\n",
    "      self.mem[instr[3]] = 1\n",
    "    else:\n",
    "      self.mem[instr[3]] = 0\n",
    "  def opc_eqir(self, instr):\n",
    "    \"\"\"eqir (equal immediate/register) sets register C to 1 if value A is equal to register B.\n",
    "    Otherwise, register C is set to 0.\"\"\"\n",
    "    if instr[1] == self.mem[instr[2]]:\n",
    "      self.mem[instr[3]] = 1\n",
    "    else:\n",
    "      self.mem[instr[3]] = 0\n",
    "  def opc_eqri(self, instr):\n",
    "    \"\"\"eqri (equal register/immediate) sets register C to 1 if register A is equal to value B.\n",
    "    Otherwise, register C is set to 0.\"\"\"\n",
    "    if self.mem[instr[1]] == instr[2]:\n",
    "      self.mem[instr[3]] = 1\n",
    "    else:\n",
    "      self.mem[instr[3]] = 0\n",
    "  def opc_eqrr(self, instr):\n",
    "    \"\"\"eqrr (equal register/register) sets register C to 1 if register A is equal to register B.\n",
    "    Otherwise, register C is set to 0.\"\"\"\n",
    "    if self.mem[instr[1]] == self.mem[instr[2]]:\n",
    "      self.mem[instr[3]] = 1\n",
    "    else:\n",
    "      self.mem[instr[3]] = 0\n"
   ]
  },
  {
   "cell_type": "code",
   "execution_count": null,
   "metadata": {},
   "outputs": [],
   "source": [
    "tests = \"\"\"\n",
    "#ip 0\n",
    "seti 5 0 1\n",
    "seti 6 0 2\n",
    "addi 0 1 0\n",
    "addr 1 2 3\n",
    "setr 1 0 0\n",
    "seti 8 0 4\n",
    "seti 9 0 5\n",
    "\"\"\".strip().split(\"\\n\")"
   ]
  },
  {
   "cell_type": "code",
   "execution_count": null,
   "metadata": {},
   "outputs": [],
   "source": [
    "log.setLevel( aoc.LOGLEVEL_TRACE )\n",
    "log.debug(f\"effective-log-level={log.getEffectiveLevel()}\")\n",
    "\n",
    "log.debug(tests)\n",
    "cpu = CPU()\n",
    "cpu.prepare(tests)\n",
    "cpu.interpret()\n",
    "assert( [6, 5, 6, 0, 0, 9] == cpu.mem )"
   ]
  },
  {
   "cell_type": "code",
   "execution_count": null,
   "metadata": {},
   "outputs": [],
   "source": [
    "log.setLevel( logging.INFO )\n",
    "log.info(f\"effective-log-level={log.getEffectiveLevel()}\")\n",
    "\n",
    "ins = aoc.read_file_to_list('./in/day19.in')\n",
    "log.debug(ins)\n",
    "\n",
    "cpu = CPU()\n",
    "cpu.prepare(ins)\n",
    "cpu.interpret()\n",
    "log.info(f\"Day 19 a result-mem={cpu.mem}; cpu-state={cpu.state}\")"
   ]
  },
  {
   "cell_type": "code",
   "execution_count": null,
   "metadata": {},
   "outputs": [],
   "source": [
    "RUN_DOUBTFUL = False\n",
    "\n",
    "if RUN_DOUBTFUL: # this currently fails after _hours_ of runtime\n",
    "  cpu = CPU()\n",
    "  cpu.prepare(ins)\n",
    "  cpu.mem[0] = 1\n",
    "  log.info(f\"  set-init-mem={cpu.mem}\")\n",
    "  cpu.interpret(steps=1_000_000)\n",
    "  log.info(f\"Day 19 b result-mem={cpu.mem}, cpu-state={cpu.state}\")"
   ]
  },
  {
   "cell_type": "code",
   "execution_count": null,
   "metadata": {},
   "outputs": [],
   "source": []
  }
 ],
 "metadata": {
  "kernelspec": {
   "display_name": "Python 3",
   "language": "python",
   "name": "python3"
  },
  "language_info": {
   "codemirror_mode": {
    "name": "ipython",
    "version": 3
   },
   "file_extension": ".py",
   "mimetype": "text/x-python",
   "name": "python",
   "nbconvert_exporter": "python",
   "pygments_lexer": "ipython3",
   "version": "3.7.9"
  }
 },
 "nbformat": 4,
 "nbformat_minor": 4
}
