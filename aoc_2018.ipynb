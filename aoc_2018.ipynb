{
 "cells": [
  {
   "cell_type": "markdown",
   "metadata": {},
   "source": [
    "# Advent of Code 2018\n",
    "\n",
    "This solution (Jupyter notebook; python3.7) by kannix68, @ 2020-12 (2 years late).  \\\n",
    "Using anaconda distro, conda v4.9.2. installation on MacOS v10.14.6 \"Mojave\"."
   ]
  },
  {
   "cell_type": "markdown",
   "metadata": {},
   "source": [
    "## Generic AoC code"
   ]
  },
  {
   "cell_type": "code",
   "execution_count": null,
   "metadata": {},
   "outputs": [],
   "source": [
    "import sys\n",
    "print(\"Python version:\", sys.version)\n",
    "print(\"Version info:\", sys.version_info)"
   ]
  },
  {
   "cell_type": "code",
   "execution_count": null,
   "metadata": {},
   "outputs": [],
   "source": [
    "DEBUG_FLAG = 0\n",
    "VERBOSE_LEVEL = 1"
   ]
  },
  {
   "cell_type": "code",
   "execution_count": null,
   "metadata": {},
   "outputs": [],
   "source": [
    "# Code functions\n",
    "# TODO: import and use lib/aochelper instead\n",
    "\n",
    "def assert_msg(msg, assertion):\n",
    "  \"\"\"Assert boolean condition with message, ok=message printed, otherwise assertion-fail.\"\"\"\n",
    "  assert assertion, \"ERROR on assert: {}\".format(msg)\n",
    "  print(\"assert-OK: {}\".format(msg))\n",
    "\n",
    "def expect_msg(msg, expected, inputs):\n",
    "  assert_msg(msg.format(inputs, expected), expected == solve(inputs))\n",
    "\n",
    "def log_debug(*args,**kwargs):\n",
    "  \"\"\"Print message only if DEBUG_FLAG > 0.\"\"\"\n",
    "  if DEBUG_FLAG > 0:\n",
    "    print('D: ', end='')\n",
    "    print(*args,**kwargs)\n",
    "\n",
    "def log_info(*args,**kwargs):\n",
    "  \"\"\"Print message only if VERBOSE_LEVEL > 0.\"\"\"\n",
    "  if VERBOSE_LEVEL > 0:\n",
    "    print('I: ', end='')\n",
    "    print(*args,**kwargs)\n",
    "\n",
    "def read_file_to_str(filename):\n",
    "  \"\"\"Read a file's content into one string.\"\"\"\n",
    "  with open(filename, 'r') as inputfile:\n",
    "    data = inputfile.read()\n",
    "  return data\n",
    "\n",
    "def read_file_to_list(filename):\n",
    "  \"\"\"Read a file's content into a list of strings (per line), each ending whitespace stripped.\"\"\"\n",
    "  with open(filename, 'r') as inputfile:\n",
    "    lines_list = inputfile.readlines()\n",
    "  #lines_list = [line.rstrip('\\n') for line in lines_list] # via list comprehension\n",
    "  lines_list = list(map(lambda it: it.rstrip(), lines_list)) # via map\n",
    "  return lines_list\n",
    "\n",
    "def lrange(*args,**kwargs):\n",
    "  return list(range(*args,**kwargs))\n",
    "\n",
    "def lmap(*args,**kwargs):\n",
    "  return list(map(*args,**kwargs))\n",
    "\n",
    "def lfilter(*args,**kwargs):\n",
    "  return list(filter(*args,**kwargs))\n"
   ]
  },
  {
   "cell_type": "markdown",
   "metadata": {},
   "source": [
    "## Problem domain code"
   ]
  },
  {
   "cell_type": "markdown",
   "metadata": {},
   "source": [
    "### Day 1: Chronal Calibration"
   ]
  },
  {
   "cell_type": "code",
   "execution_count": null,
   "metadata": {},
   "outputs": [],
   "source": [
    "print(\"Day 1 a\")"
   ]
  },
  {
   "cell_type": "code",
   "execution_count": null,
   "metadata": {},
   "outputs": [],
   "source": [
    "test = \"\"\"\n",
    "+1, -2, +3, +1\n",
    "\"\"\".strip().split(', ')\n",
    "tests = lmap(int, test)\n",
    "assert_msg(\"test 1\", 3 == sum(tests))"
   ]
  },
  {
   "cell_type": "code",
   "execution_count": null,
   "metadata": {},
   "outputs": [],
   "source": [
    "ins = read_file_to_list('./day01/day01.in')\n",
    "print(\"Day 1 a solution:\", sum(lmap(int, ins)))"
   ]
  },
  {
   "cell_type": "code",
   "execution_count": null,
   "metadata": {},
   "outputs": [],
   "source": [
    "print(\"Day 1 b\", \"TODO here, but already solved 2018\")"
   ]
  },
  {
   "cell_type": "code",
   "execution_count": null,
   "metadata": {},
   "outputs": [],
   "source": [
    "import itertools"
   ]
  },
  {
   "cell_type": "code",
   "execution_count": null,
   "metadata": {},
   "outputs": [],
   "source": [
    "# A list and list.append(frequency are resource hog tools to keep track of seen entries),\n",
    "#  using dict instead.\n",
    "def solve01b(l):\n",
    "  iter = 0\n",
    "  freq = 0\n",
    "  freqs = {freq:True}\n",
    "  for freq_inc in itertools.cycle(l):\n",
    "    iter += 1\n",
    "    freq += freq_inc\n",
    "    if (len(freqs)%100_000 == 0):\n",
    "      log_info(f\"iter={iter}, freq={freq} num-frequencies={len(freqs)}\")\n",
    "    if freq in freqs:\n",
    "      log_info(f\"frequency {freq} used 2nd time, iteration={iter}, num-frequencies={len(freqs)}\")\n",
    "      return freq\n",
    "    elif iter > 10_000_000:\n",
    "      raise Exception(\"fail\")\n",
    "    else:\n",
    "      freqs[freq] = True\n"
   ]
  },
  {
   "cell_type": "code",
   "execution_count": null,
   "metadata": {},
   "outputs": [],
   "source": [
    "solve01b(tests)\n",
    "iins = lmap(int, ins)\n",
    "log_debug(len(iins), iins)\n",
    "result = solve01b(iins)\n",
    "print(\"Day 1 b result:\", result)"
   ]
  },
  {
   "cell_type": "markdown",
   "metadata": {},
   "source": [
    "### Day 2: Inventory Management System"
   ]
  },
  {
   "cell_type": "code",
   "execution_count": null,
   "metadata": {},
   "outputs": [],
   "source": [
    "print(\"Day 2\", \"TODO here, but already solved 2018\")"
   ]
  },
  {
   "cell_type": "markdown",
   "metadata": {},
   "source": [
    "### Day 3: No Matter How You Slice It"
   ]
  },
  {
   "cell_type": "code",
   "execution_count": null,
   "metadata": {},
   "outputs": [],
   "source": [
    "from collections import defaultdict\n",
    "\n",
    "class C2d_space_inc:\n",
    "  \n",
    "  def __init__(self):\n",
    "    self.spc = defaultdict(int)\n",
    "    self.clms = {}\n",
    "  \n",
    "  def set_xy(self, x, y):\n",
    "    self.spc[tuple([x,y])] += 1\n",
    "  \n",
    "  def set_range(self, x, y, rgx, rgy, id=None):\n",
    "    for px in range(x, x+rgx):\n",
    "      for py in range(y, y+rgy):\n",
    "        self.spc[tuple([px,py])] += 1\n",
    "    if id is not None:\n",
    "      self.clms[id] = [x, y, rgx, rgy]\n",
    "      #log_info(f\"create claim {id} => {self.claims[id] }\")\n",
    "  \n",
    "  def get_range(self, x, y, rgx, rgy):\n",
    "    outspc = {}\n",
    "    for px in range(x, x+rgx):\n",
    "      for py in range(y, y+rgy):\n",
    "        outspc[tuple([px,py])] = self.spc[tuple([px,py])]\n",
    "    return outspc\n",
    "\n",
    "  def cols(self):\n",
    "    return sorted(set(map(lambda it: it[0], self.spc.keys())))\n",
    "\n",
    "  def rows(self):\n",
    "    return sorted(set(map(lambda it: it[1], self.spc.keys())))\n",
    "  \n",
    "  def values(self):\n",
    "    return self.spc.values()\n",
    "\n",
    "  def claims(self):\n",
    "    return self.clms\n",
    "\n",
    "  def get_pp_repr(self):\n",
    "    return \"[c2d_space_inc]: \" + str(self.spc)\n",
    "\n",
    "  def pp(self):\n",
    "    print(self.get_pp_repr())\n",
    "\n",
    "  def get_show_repr(self):\n",
    "    rows = self.rows()\n",
    "    cols = self.cols()\n",
    "    rowstr = ''\n",
    "    for y in range(0, max(rows)+1): #range(min(rows), max(rows)+1):\n",
    "      colstr = ''\n",
    "      for x in range(0, max(cols)+1):\n",
    "        colstr += str(self.spc[tuple([x,y])])\n",
    "      rowstr += colstr + \"\\n\"\n",
    "    return rowstr\n",
    "\n",
    "  def show(self):\n",
    "    print(self.get_show_repr())"
   ]
  },
  {
   "cell_type": "code",
   "execution_count": null,
   "metadata": {},
   "outputs": [],
   "source": [
    "# just some testing:\n",
    "c2d = C2d_space_inc()\n",
    "c2d.set_xy(1,1)\n",
    "c2d.set_xy(2,2)\n",
    "log_debug(c2d.get_pp_repr())\n",
    "c2d.set_xy(1,1)\n",
    "c2d.set_xy(1,3)\n",
    "log_debug(c2d.get_pp_repr())\n",
    "log_debug(\"cols:\", c2d.cols())\n",
    "log_debug(\"rows:\", c2d.rows())\n",
    "log_debug(\"\\n\"+c2d.get_show_repr()) #c2d.show()"
   ]
  },
  {
   "cell_type": "code",
   "execution_count": null,
   "metadata": {},
   "outputs": [],
   "source": [
    "def create_space(l):\n",
    "  import re\n",
    "  c2d = C2d_space_inc()\n",
    "  for line in l:\n",
    "    rx = re.search('^#(\\w+)\\s+@\\s+(\\d+),(\\d+):\\s*(\\d+)x(\\d+)$', line) #r'^#([^\\s]+) @ (d+),(\\d+): ((\\d+)),((\\d+))$', line)\n",
    "    log_debug(rx.groups())\n",
    "    id, sx, sy, srgx, srgy = rx.groups()\n",
    "    x, y, rgs, rgy = lmap(int, [sx, sy, srgx, srgy])\n",
    "    #c2d.set_range(x, y, rgs, rgy)\n",
    "    c2d.set_range(x, y, rgs, rgy, id=id)\n",
    "  #c2d.show()\n",
    "  return c2d"
   ]
  },
  {
   "cell_type": "code",
   "execution_count": null,
   "metadata": {},
   "outputs": [],
   "source": [
    "tests = \"\"\"\n",
    "#123 @ 3,2: 5x4\n",
    "\"\"\".strip().split(\"\\n\")\n",
    "log_info(\"tests\", tests)"
   ]
  },
  {
   "cell_type": "code",
   "execution_count": null,
   "metadata": {},
   "outputs": [],
   "source": [
    "print(\"1st test representation:\")\n",
    "create_space(tests).show()"
   ]
  },
  {
   "cell_type": "code",
   "execution_count": null,
   "metadata": {},
   "outputs": [],
   "source": [
    "tests = \"\"\"\n",
    "#1 @ 1,3: 4x4\n",
    "#2 @ 3,1: 4x4\n",
    "#3 @ 5,5: 2x2\n",
    "\"\"\".strip().split(\"\\n\")\n",
    "log_info(\"tests\", tests)"
   ]
  },
  {
   "cell_type": "code",
   "execution_count": null,
   "metadata": {},
   "outputs": [],
   "source": [
    "print(\"2nd test representation:\")\n",
    "create_space(tests).show()"
   ]
  },
  {
   "cell_type": "code",
   "execution_count": null,
   "metadata": {},
   "outputs": [],
   "source": [
    "def get_space_overlaps(l):\n",
    "  c2d = create_space(l)\n",
    "  return len(lfilter(lambda it: it > 1, c2d.values()))"
   ]
  },
  {
   "cell_type": "code",
   "execution_count": null,
   "metadata": {},
   "outputs": [],
   "source": [
    "assert_msg( \"4 test cells that overlap\", 4 == get_space_overlaps(tests) )"
   ]
  },
  {
   "cell_type": "code",
   "execution_count": null,
   "metadata": {},
   "outputs": [],
   "source": [
    "ins = read_file_to_list('./day03/day03.in')\n",
    "result = get_space_overlaps(ins)\n",
    "print(\"Day 3 a solution:\", result)"
   ]
  },
  {
   "cell_type": "code",
   "execution_count": null,
   "metadata": {},
   "outputs": [],
   "source": [
    "def get_singular_space(l):\n",
    "  c2d = create_space(l)\n",
    "  for k, v in c2d.claims().items():\n",
    "    log_debug(k, v)\n",
    "    rg = c2d.get_range(v[0], v[1], v[2], v[3])\n",
    "    log_debug(rg)\n",
    "    log_debug(rg.values())\n",
    "    if max(rg.values()) == 1:\n",
    "      log_info(\"found id:\", k, \", num of 1-cells:\", len(rg.values()))\n",
    "      result = k\n",
    "  return result"
   ]
  },
  {
   "cell_type": "code",
   "execution_count": null,
   "metadata": {},
   "outputs": [],
   "source": [
    "print(\"Day 3 b tests result: \", get_singular_space(tests))\n",
    "print(\"Day 3 b solution:\", get_singular_space(ins))"
   ]
  },
  {
   "cell_type": "markdown",
   "metadata": {},
   "source": [
    "### Day 4"
   ]
  },
  {
   "cell_type": "code",
   "execution_count": null,
   "metadata": {},
   "outputs": [],
   "source": [
    "# TODO"
   ]
  },
  {
   "cell_type": "markdown",
   "metadata": {},
   "source": [
    "### Day 5"
   ]
  },
  {
   "cell_type": "code",
   "execution_count": null,
   "metadata": {},
   "outputs": [],
   "source": [
    "# TODO"
   ]
  },
  {
   "cell_type": "markdown",
   "metadata": {},
   "source": [
    "### Day 6:  Chronal Coordinates"
   ]
  },
  {
   "cell_type": "code",
   "execution_count": null,
   "metadata": {},
   "outputs": [],
   "source": [
    "#TODO"
   ]
  },
  {
   "cell_type": "markdown",
   "metadata": {},
   "source": [
    "### Day 7: The Sum of Its Parts"
   ]
  },
  {
   "cell_type": "code",
   "execution_count": null,
   "metadata": {},
   "outputs": [],
   "source": [
    "DEBUG_FLAG = 0"
   ]
  },
  {
   "cell_type": "code",
   "execution_count": null,
   "metadata": {},
   "outputs": [],
   "source": [
    "import networkx as nx"
   ]
  },
  {
   "cell_type": "code",
   "execution_count": null,
   "metadata": {},
   "outputs": [],
   "source": [
    "tests = \"\"\"\n",
    "Step C must be finished before step A can begin.\n",
    "Step C must be finished before step F can begin.\n",
    "Step A must be finished before step B can begin.\n",
    "Step A must be finished before step D can begin.\n",
    "Step B must be finished before step E can begin.\n",
    "Step D must be finished before step E can begin.\n",
    "Step F must be finished before step E can begin.\n",
    "\"\"\".strip().split(\"\\n\")"
   ]
  },
  {
   "cell_type": "code",
   "execution_count": null,
   "metadata": {},
   "outputs": [],
   "source": [
    "def create_graph(l):\n",
    "  graph = nx.DiGraph()\n",
    "  for line in l:\n",
    "    linesplit = line.split(' ')\n",
    "    srcnd, trgnd = [linesplit[1], linesplit[-3]]\n",
    "    if not srcnd in graph.nodes:\n",
    "      log_debug(f\"g add node {srcnd}\")\n",
    "    if not trgnd in graph.nodes:\n",
    "      log_debug(f\"g add node {trgnd}\")\n",
    "    graph.add_edge(srcnd, trgnd)\n",
    "  log_info(\"graph-edges:\", sorted(list(graph.edges)))\n",
    "  return graph"
   ]
  },
  {
   "cell_type": "code",
   "execution_count": null,
   "metadata": {},
   "outputs": [],
   "source": [
    "# still using networkx graph li, inspiration from user VikeStep:\n",
    "#  [- 2018 Day 7 Solutions - : adventofcode](https://www.reddit.com/r/adventofcode/comments/a3wmnl/2018_day_7_solutions/)\n",
    "def solve07a(l):\n",
    "  graph = create_graph(l)\n",
    "  \n",
    "  nodes_lst = list(graph.nodes)\n",
    "  log_debug(\"nodes: entry-order\", str.join('', nodes_lst))\n",
    "  nodes_lst = list(nx.topological_sort(graph))\n",
    "  log_debug(\"nodes: topo\", str.join('', nodes_lst))\n",
    "  nodes_lst = list(nx.algorithms.dag.lexicographical_topological_sort(graph))\n",
    "  log_info(\"nodes: lexico-topo\", str.join('', nodes_lst))\n",
    "  return str.join('', nodes_lst)"
   ]
  },
  {
   "cell_type": "code",
   "execution_count": null,
   "metadata": {},
   "outputs": [],
   "source": [
    "solve07a(tests)"
   ]
  },
  {
   "cell_type": "code",
   "execution_count": null,
   "metadata": {},
   "outputs": [],
   "source": [
    "ins = read_file_to_list('./in/day07.in')\n",
    "solve07a(ins)"
   ]
  },
  {
   "cell_type": "code",
   "execution_count": null,
   "metadata": {},
   "outputs": [],
   "source": [
    "print(\"Day 07 b\")"
   ]
  },
  {
   "cell_type": "code",
   "execution_count": null,
   "metadata": {},
   "outputs": [],
   "source": [
    "#TODO"
   ]
  },
  {
   "cell_type": "code",
   "execution_count": null,
   "metadata": {},
   "outputs": [],
   "source": [
    "### Day 14: Chocolate Charts"
   ]
  },
  {
   "cell_type": "code",
   "execution_count": null,
   "metadata": {},
   "outputs": [],
   "source": [
    "def find_improved_score(target_num):\n",
    "  elf1 = 0\n",
    "  elf2 = 1\n",
    "  recipies = [3, 7]\n",
    "  #num_new_recipies = 0\n",
    "  log_info(f\"#0: num-recipes={len(recipies)}, recipies={recipies}\")\n",
    "  for i in range(2*target_num):\n",
    "    new_recipy = recipies[elf1] +  recipies[elf2]\n",
    "    #found_recipies.add(new_recipy)\n",
    "    digits = lmap(int, str(new_recipy))\n",
    "    #num_new_recipies += len(digits)\n",
    "    for d in digits:\n",
    "      recipies.append(d)\n",
    "    elf1 = (elf1+1+recipies[elf1]) % len(recipies)\n",
    "    elf2 = (elf2+1+recipies[elf2]) % len(recipies)\n",
    "    log_debug(f\"#{i+1}: num-recipes={len(recipies)}\")\n",
    "    log_debug(len(digits), digits, recipies, \" elf1:\", elf1, \" elf2:\", elf2, len(recipies)) #found_recipies)\n",
    "    if len(recipies) >= target_num + 10:\n",
    "      res = str.join('', lmap(str, recipies))[target_num:target_num+10] # 0124515891\n",
    "      log_info(\"found:\", res)\n",
    "      return res\n"
   ]
  },
  {
   "cell_type": "code",
   "execution_count": null,
   "metadata": {},
   "outputs": [],
   "source": [
    "print( find_improved_score(9) )\n",
    "print( find_improved_score(5) )\n",
    "print( find_improved_score(18) )\n",
    "print( find_improved_score(2018) )\n"
   ]
  },
  {
   "cell_type": "code",
   "execution_count": null,
   "metadata": {},
   "outputs": [],
   "source": [
    "ins = 846021 # << insert personal input here\n",
    "print( \"Day 14 a solution:\", find_improved_score(ins) )"
   ]
  },
  {
   "cell_type": "code",
   "execution_count": null,
   "metadata": {},
   "outputs": [],
   "source": [
    "print(\"Day 14 b\")\n",
    "\n",
    "def find_num_recips_before(target_num):\n",
    "  target_str = str(target_num)\n",
    "  elf1 = 0\n",
    "  elf2 = 1\n",
    "  recipies = [3, 7]\n",
    "  #num_new_recipies = 0\n",
    "  log_info(f\"#0: num-recipes={len(recipies)}, recipies={recipies}\")\n",
    "  for i in range(1000*int(target_num)):\n",
    "    new_recipy = recipies[elf1] +  recipies[elf2]\n",
    "    #found_recipies.add(new_recipy)\n",
    "    digits = lmap(int, str(new_recipy))\n",
    "    #num_new_recipies += len(digits)\n",
    "    for d in digits:\n",
    "      recipies.append(d)\n",
    "    elf1 = (elf1+1+recipies[elf1]) % len(recipies)\n",
    "    elf2 = (elf2+1+recipies[elf2]) % len(recipies)\n",
    "    #log_debug(f\"#{i+1}: num-recipes={len(recipies)}\")\n",
    "    #log_debug(len(digits), digits, recipies, \" elf1:\", elf1, \" elf2:\", elf2, found_recipies)\n",
    "    if i % 1_000_000 == 0:\n",
    "      #True\n",
    "      log_info(\"calculating, iter:\", i)\n",
    "    recips_end_str = str.join('', lmap(str, recipies[-12:]))\n",
    "    if target_str in recips_end_str:\n",
    "      offset = 0\n",
    "      if not recips_end_str.endswith(target_str):\n",
    "        recips_end_str = recips_end_str[0:-1]\n",
    "        offset = 1\n",
    "      assert( recips_end_str.endswith(target_str) )\n",
    "      #recips_str = str.join('', lmap(str, recipies))\n",
    "      #res = recips_str.index(target_str)\n",
    "      log_info(len(recipies)-len(target_str)) #\" from {recips_str}\")\n",
    "      res = len(recipies) - len(target_str) - offset\n",
    "      log_info(f\"target-num={target_str}, found: idx={res} @iter={i}\") #\" from {recips_str}\")\n",
    "      return res\n",
    "  raise Exception(\"not terminated with find-criterium\")"
   ]
  },
  {
   "cell_type": "code",
   "execution_count": null,
   "metadata": {},
   "outputs": [],
   "source": [
    "find_num_recips_before(51589)"
   ]
  },
  {
   "cell_type": "code",
   "execution_count": null,
   "metadata": {},
   "outputs": [],
   "source": [
    "find_num_recips_before('01245')\n",
    "find_num_recips_before('92510')\n",
    "find_num_recips_before('59414')"
   ]
  },
  {
   "cell_type": "code",
   "execution_count": null,
   "metadata": {},
   "outputs": [],
   "source": [
    "PERFORM_RESOURCE_HOGS = False\n",
    "if PERFORM_RESOURCE_HOGS:\n",
    "  find_num_recips_before(ins)"
   ]
  },
  {
   "cell_type": "code",
   "execution_count": null,
   "metadata": {},
   "outputs": [],
   "source": []
  }
 ],
 "metadata": {
  "kernelspec": {
   "display_name": "Python 3",
   "language": "python",
   "name": "python3"
  },
  "language_info": {
   "codemirror_mode": {
    "name": "ipython",
    "version": 3
   },
   "file_extension": ".py",
   "mimetype": "text/x-python",
   "name": "python",
   "nbconvert_exporter": "python",
   "pygments_lexer": "ipython3",
   "version": "3.7.9"
  }
 },
 "nbformat": 4,
 "nbformat_minor": 4
}
